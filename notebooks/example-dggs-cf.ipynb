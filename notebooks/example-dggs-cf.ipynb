{
 "cells": [
  {
   "cell_type": "code",
   "execution_count": null,
   "id": "9301f8ba-70d8-4173-85ac-24f615c8ede0",
   "metadata": {},
   "outputs": [],
   "source": [
    "import xdggs\n",
    "import xarray as xr\n",
    "import numpy as np\n",
    "\n",
    "ds = xdggs.tutorial.open_dataset(\"air_temperature\", \"healpix\").dggs.decode()\n",
    "ds"
   ]
  },
  {
   "cell_type": "code",
   "execution_count": null,
   "id": "c342dcfb-4f09-435c-9684-19506fd30751",
   "metadata": {},
   "outputs": [],
   "source": [
    "def as_cf(ds):\n",
    "    grid_info = ds.dggs.grid_info\n",
    "    metadata = {\n",
    "        \"grid_mapping_name\": \"healpix\",\n",
    "        \"refinement_level\": grid_info.level,\n",
    "        \"indexing_scheme\": grid_info.indexing_scheme,\n",
    "        \"reference_body\": \"WGS84\",\n",
    "        \"refinement_ratio\": 4,\n",
    "    }\n",
    "\n",
    "    new = ds.assign_coords(crs=xr.Variable((), np.int8(0), metadata))\n",
    "    new[\"cell_ids\"].attrs = {\"standard_name\": \"healpix\", \"units\": \"1\"}\n",
    "\n",
    "    var_attrs = {\"coordinates\": ds.dggs._name, \"grid_mapping\": \"crs\"}\n",
    "\n",
    "    for name, var in new.variables.items():\n",
    "        if name in {\"cell_ids\"} or \"cells\" not in var.dims:\n",
    "            continue\n",
    "\n",
    "        var.attrs |= var_attrs\n",
    "\n",
    "    return new"
   ]
  },
  {
   "cell_type": "code",
   "execution_count": null,
   "id": "c9366462-f0b8-417a-8172-74e291c1148b",
   "metadata": {},
   "outputs": [],
   "source": [
    "ds.pipe(as_cf)"
   ]
  }
 ],
 "metadata": {
  "kernelspec": {
   "display_name": "Python 3 (ipykernel)",
   "language": "python",
   "name": "python3"
  },
  "language_info": {
   "codemirror_mode": {
    "name": "ipython",
    "version": 3
   },
   "file_extension": ".py",
   "mimetype": "text/x-python",
   "name": "python",
   "nbconvert_exporter": "python",
   "pygments_lexer": "ipython3",
   "version": "3.13.7"
  }
 },
 "nbformat": 4,
 "nbformat_minor": 5
}
